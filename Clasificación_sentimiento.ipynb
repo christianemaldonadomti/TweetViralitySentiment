{
  "nbformat": 4,
  "nbformat_minor": 0,
  "metadata": {
    "colab": {
      "provenance": []
    },
    "kernelspec": {
      "name": "python3",
      "display_name": "Python 3"
    },
    "language_info": {
      "name": "python"
    }
  },
  "cells": [
    {
      "cell_type": "code",
      "source": [
        "!pip install transformers"
      ],
      "metadata": {
        "colab": {
          "base_uri": "https://localhost:8080/"
        },
        "id": "hSkY-BHnYVRo",
        "outputId": "e07d7bae-8892-44ff-c58f-2af1e26b613b"
      },
      "execution_count": 1,
      "outputs": [
        {
          "output_type": "stream",
          "name": "stdout",
          "text": [
            "Collecting transformers\n",
            "  Downloading transformers-4.34.0-py3-none-any.whl (7.7 MB)\n",
            "\u001b[2K     \u001b[90m━━━━━━━━━━━━━━━━━━━━━━━━━━━━━━━━━━━━━━━━\u001b[0m \u001b[32m7.7/7.7 MB\u001b[0m \u001b[31m20.1 MB/s\u001b[0m eta \u001b[36m0:00:00\u001b[0m\n",
            "\u001b[?25hRequirement already satisfied: filelock in /usr/local/lib/python3.10/dist-packages (from transformers) (3.12.4)\n",
            "Collecting huggingface-hub<1.0,>=0.16.4 (from transformers)\n",
            "  Downloading huggingface_hub-0.18.0-py3-none-any.whl (301 kB)\n",
            "\u001b[2K     \u001b[90m━━━━━━━━━━━━━━━━━━━━━━━━━━━━━━━━━━━━━━\u001b[0m \u001b[32m302.0/302.0 kB\u001b[0m \u001b[31m12.5 MB/s\u001b[0m eta \u001b[36m0:00:00\u001b[0m\n",
            "\u001b[?25hRequirement already satisfied: numpy>=1.17 in /usr/local/lib/python3.10/dist-packages (from transformers) (1.23.5)\n",
            "Requirement already satisfied: packaging>=20.0 in /usr/local/lib/python3.10/dist-packages (from transformers) (23.2)\n",
            "Requirement already satisfied: pyyaml>=5.1 in /usr/local/lib/python3.10/dist-packages (from transformers) (6.0.1)\n",
            "Requirement already satisfied: regex!=2019.12.17 in /usr/local/lib/python3.10/dist-packages (from transformers) (2023.6.3)\n",
            "Requirement already satisfied: requests in /usr/local/lib/python3.10/dist-packages (from transformers) (2.31.0)\n",
            "Collecting tokenizers<0.15,>=0.14 (from transformers)\n",
            "  Downloading tokenizers-0.14.1-cp310-cp310-manylinux_2_17_x86_64.manylinux2014_x86_64.whl (3.8 MB)\n",
            "\u001b[2K     \u001b[90m━━━━━━━━━━━━━━━━━━━━━━━━━━━━━━━━━━━━━━━━\u001b[0m \u001b[32m3.8/3.8 MB\u001b[0m \u001b[31m34.9 MB/s\u001b[0m eta \u001b[36m0:00:00\u001b[0m\n",
            "\u001b[?25hCollecting safetensors>=0.3.1 (from transformers)\n",
            "  Downloading safetensors-0.4.0-cp310-cp310-manylinux_2_17_x86_64.manylinux2014_x86_64.whl (1.3 MB)\n",
            "\u001b[2K     \u001b[90m━━━━━━━━━━━━━━━━━━━━━━━━━━━━━━━━━━━━━━━━\u001b[0m \u001b[32m1.3/1.3 MB\u001b[0m \u001b[31m52.1 MB/s\u001b[0m eta \u001b[36m0:00:00\u001b[0m\n",
            "\u001b[?25hRequirement already satisfied: tqdm>=4.27 in /usr/local/lib/python3.10/dist-packages (from transformers) (4.66.1)\n",
            "Requirement already satisfied: fsspec>=2023.5.0 in /usr/local/lib/python3.10/dist-packages (from huggingface-hub<1.0,>=0.16.4->transformers) (2023.6.0)\n",
            "Requirement already satisfied: typing-extensions>=3.7.4.3 in /usr/local/lib/python3.10/dist-packages (from huggingface-hub<1.0,>=0.16.4->transformers) (4.5.0)\n",
            "Collecting huggingface-hub<1.0,>=0.16.4 (from transformers)\n",
            "  Downloading huggingface_hub-0.17.3-py3-none-any.whl (295 kB)\n",
            "\u001b[2K     \u001b[90m━━━━━━━━━━━━━━━━━━━━━━━━━━━━━━━━━━━━━━\u001b[0m \u001b[32m295.0/295.0 kB\u001b[0m \u001b[31m30.0 MB/s\u001b[0m eta \u001b[36m0:00:00\u001b[0m\n",
            "\u001b[?25hRequirement already satisfied: charset-normalizer<4,>=2 in /usr/local/lib/python3.10/dist-packages (from requests->transformers) (3.3.0)\n",
            "Requirement already satisfied: idna<4,>=2.5 in /usr/local/lib/python3.10/dist-packages (from requests->transformers) (3.4)\n",
            "Requirement already satisfied: urllib3<3,>=1.21.1 in /usr/local/lib/python3.10/dist-packages (from requests->transformers) (2.0.6)\n",
            "Requirement already satisfied: certifi>=2017.4.17 in /usr/local/lib/python3.10/dist-packages (from requests->transformers) (2023.7.22)\n",
            "Installing collected packages: safetensors, huggingface-hub, tokenizers, transformers\n",
            "Successfully installed huggingface-hub-0.17.3 safetensors-0.4.0 tokenizers-0.14.1 transformers-4.34.0\n"
          ]
        }
      ]
    },
    {
      "cell_type": "code",
      "source": [
        "!pip install senticnet"
      ],
      "metadata": {
        "colab": {
          "base_uri": "https://localhost:8080/"
        },
        "id": "Ah5Z2VNfF1H3",
        "outputId": "c7397c5c-6190-48a0-e72b-e6d57262d01d"
      },
      "execution_count": 2,
      "outputs": [
        {
          "output_type": "stream",
          "name": "stdout",
          "text": [
            "Collecting senticnet\n",
            "  Downloading senticnet-1.6-py3-none-any.whl (51.9 MB)\n",
            "\u001b[2K     \u001b[90m━━━━━━━━━━━━━━━━━━━━━━━━━━━━━━━━━━━━━━━━\u001b[0m \u001b[32m51.9/51.9 MB\u001b[0m \u001b[31m7.8 MB/s\u001b[0m eta \u001b[36m0:00:00\u001b[0m\n",
            "\u001b[?25hInstalling collected packages: senticnet\n",
            "Successfully installed senticnet-1.6\n"
          ]
        }
      ]
    },
    {
      "cell_type": "code",
      "source": [
        "! python setup.py install"
      ],
      "metadata": {
        "colab": {
          "base_uri": "https://localhost:8080/"
        },
        "id": "9bne3SgbF-oY",
        "outputId": "faa60001-4248-4a0c-9614-59582b679cde"
      },
      "execution_count": 3,
      "outputs": [
        {
          "output_type": "stream",
          "name": "stdout",
          "text": [
            "python3: can't open file '/content/setup.py': [Errno 2] No such file or directory\n"
          ]
        }
      ]
    },
    {
      "cell_type": "code",
      "source": [
        "! pip install unidecode"
      ],
      "metadata": {
        "colab": {
          "base_uri": "https://localhost:8080/"
        },
        "id": "Jl00E4H_ZzJo",
        "outputId": "62c79769-a13e-4380-9e72-f5f9862e1fa3"
      },
      "execution_count": 4,
      "outputs": [
        {
          "output_type": "stream",
          "name": "stdout",
          "text": [
            "Collecting unidecode\n",
            "  Downloading Unidecode-1.3.7-py3-none-any.whl (235 kB)\n",
            "\u001b[2K     \u001b[90m━━━━━━━━━━━━━━━━━━━━━━━━━━━━━━━━━━━━━━━\u001b[0m \u001b[32m235.5/235.5 kB\u001b[0m \u001b[31m3.5 MB/s\u001b[0m eta \u001b[36m0:00:00\u001b[0m\n",
            "\u001b[?25hInstalling collected packages: unidecode\n",
            "Successfully installed unidecode-1.3.7\n"
          ]
        }
      ]
    },
    {
      "cell_type": "code",
      "source": [
        "#Importamos las librerias necesarias\n",
        "from transformers import pipeline\n",
        "import pandas as pd\n",
        "import numpy as np\n",
        "from unidecode import unidecode\n",
        "from senticnet.babelsenticnet import BabelSenticNet"
      ],
      "metadata": {
        "id": "MhoQ_yhC5PLh"
      },
      "execution_count": 5,
      "outputs": []
    },
    {
      "cell_type": "code",
      "source": [
        "#Modelo de lxyuan\n",
        "lxyuan_model = pipeline(\n",
        "    model=\"lxyuan/distilbert-base-multilingual-cased-sentiments-student\",\n",
        "    return_all_scores=True) #Agregue false para que el modelo solo regrese el valor más alto y probable\n",
        "\n",
        "#Modelo de citizenlab\n",
        "citizenlab_model = pipeline(\"text-classification\",\n",
        "                            model=\"citizenlab/twitter-xlm-roberta-base-sentiment-finetunned\",\n",
        "                            tokenizer=\"citizenlab/twitter-xlm-roberta-base-sentiment-finetunned\",\n",
        "                            return_all_scores=True)\n",
        "# Crea una instancia de la clase BabelSenticNet para español (código de idioma 'es')\n",
        "sn = BabelSenticNet('es')\n",
        "\n",
        "def sentic_model(sentence):\n",
        "    words = sentence.split()\n",
        "    total_polarity = 0\n",
        "\n",
        "    for word in words:\n",
        "        try:\n",
        "            polarity_value = sn.polarity_value(word)\n",
        "            total_polarity += polarity_value\n",
        "        except KeyError:\n",
        "            # Si la palabra no está en el conjunto de datos, ignórala o puedes asignar un valor predeterminado\n",
        "            pass\n",
        "        except Exception as e:\n",
        "            # Manejar otras excepciones si es necesario\n",
        "            print(f'Ocurrió un error al procesar la palabra \"{word}\": {e}')\n",
        "\n",
        "    if total_polarity >= 0:\n",
        "        return 1\n",
        "    elif total_polarity < 0:\n",
        "        return 0"
      ],
      "metadata": {
        "colab": {
          "base_uri": "https://localhost:8080/"
        },
        "id": "LiGhEzTr03wO",
        "outputId": "82bf2674-60e2-4497-c840-0406901e4d20"
      },
      "execution_count": 45,
      "outputs": [
        {
          "output_type": "stream",
          "name": "stderr",
          "text": [
            "/usr/local/lib/python3.10/dist-packages/transformers/pipelines/text_classification.py:105: UserWarning: `return_all_scores` is now deprecated,  if want a similar functionality use `top_k=None` instead of `return_all_scores=True` or `top_k=1` instead of `return_all_scores=False`.\n",
            "  warnings.warn(\n"
          ]
        }
      ]
    },
    {
      "cell_type": "code",
      "source": [
        "def procesar_resultado_citizenlab(resultado):\n",
        "    # Obtener el diccionario con el score más alto\n",
        "    max_score_label = max(resultado[0], key=lambda x: x['score'])\n",
        "\n",
        "    # Verificar el label con el score más alto y devolver el resultado correspondiente\n",
        "    if max_score_label['label'] == 'Positive':\n",
        "        return 1\n",
        "    elif max_score_label['label'] == 'Negative':\n",
        "        return 0\n",
        "    elif max_score_label['label'] == 'Neutral':\n",
        "        # Filtrar los diccionarios con 'Positive' y 'Negative' y obtener el segundo más alto\n",
        "        other_scores = [x['score'] for x in resultado[0] if x['label'] in ['Positive', 'Negative']]\n",
        "        if len(other_scores) >= 2:\n",
        "            second_highest_score = sorted(other_scores, reverse=True)[1]\n",
        "            if max_score_label['score'] == second_highest_score:\n",
        "                return 1 if 'Positive' in [x['label'] for x in resultado[0]] else 0\n",
        "            else:\n",
        "                return 0 if max_score_label['label'] == 'Negative' else 1\n",
        "        else:\n",
        "            # Si no hay suficientes scores para comparar, devolver 0\n",
        "            return 0"
      ],
      "metadata": {
        "id": "ziCmyrVZqZiW"
      },
      "execution_count": 46,
      "outputs": []
    },
    {
      "cell_type": "code",
      "source": [
        "def procesar_resultado_lxyuan(resultado):\n",
        "    # Obtener el diccionario con el score más alto\n",
        "    max_score_label = max(resultado[0], key=lambda x: x['score'])\n",
        "\n",
        "    # Verificar el label con el score más alto y devolver el resultado correspondiente\n",
        "    if max_score_label['label'] == 'positive':\n",
        "        return 1\n",
        "    elif max_score_label['label'] == 'negative':\n",
        "        return 0\n",
        "    elif max_score_label['label'] == 'neutral':\n",
        "        # Filtrar los diccionarios con 'Positive' y 'Negative' y obtener el segundo más alto\n",
        "        other_scores = [x['score'] for x in resultado[0] if x['label'] in ['Positive', 'Negative']]\n",
        "        if len(other_scores) >= 2:\n",
        "            second_highest_score = sorted(other_scores, reverse=True)[1]\n",
        "            if max_score_label['score'] == second_highest_score:\n",
        "                return 1 if 'Positive' in [x['label'] for x in resultado[0]] else 0\n",
        "            else:\n",
        "                return 0 if max_score_label['label'] == 'Negative' else 1\n",
        "        else:\n",
        "            # Si no hay suficientes scores para comparar, devolver 0\n",
        "            return 0"
      ],
      "metadata": {
        "id": "6YG4nbNEq8bv"
      },
      "execution_count": 48,
      "outputs": []
    },
    {
      "cell_type": "code",
      "source": [
        "# Cargar el archivo CSV en un DataFrame\n",
        "tweets = pd.read_csv(\"tweets_datos.csv\")\n",
        "\n",
        "# Obtener los nombres de las columnas actuales\n",
        "column_names = tweets.columns.tolist()\n",
        "\n",
        "# Agregar una nueva fila al principio del DataFrame\n",
        "tweets.loc[-1] = column_names\n",
        "tweets.index = tweets.index + 1\n",
        "tweets = tweets.sort_index()\n",
        "\n",
        "# Cambiar los nombres de las columnas\n",
        "tweets.columns = [\"impacto\", \"tweet\"]"
      ],
      "metadata": {
        "id": "L0lfT1ukVIkz"
      },
      "execution_count": 49,
      "outputs": []
    },
    {
      "cell_type": "code",
      "source": [
        "#Agregamos columnas para cada modelo\n",
        "tweets['lxyuan'] = 0\n",
        "\n",
        "tweets['citizenlab'] = 0\n",
        "\n",
        "tweets['sentic'] = 0"
      ],
      "metadata": {
        "id": "7UK5IQqP8cC-"
      },
      "execution_count": 50,
      "outputs": []
    },
    {
      "cell_type": "code",
      "source": [
        "# Limpiar la columna \"tweets\"\n",
        "tweets['tweet'] = tweets['tweet'].apply(lambda x: unidecode(x).lower())\n",
        "\n",
        "# Reemplazar menciones de usuario\n",
        "tweets['tweet'] = tweets['tweet'].str.replace(r'@\\w+', '@user')\n",
        "\n",
        "# Reemplazar enlaces\n",
        "tweets['tweet'] = tweets['tweet'].str.replace(r'http\\S+', 'link')"
      ],
      "metadata": {
        "id": "4UhEQw52dYes",
        "colab": {
          "base_uri": "https://localhost:8080/"
        },
        "outputId": "a3363c5c-ac49-4814-aa88-d31001bbca5b"
      },
      "execution_count": 51,
      "outputs": [
        {
          "output_type": "stream",
          "name": "stderr",
          "text": [
            "<ipython-input-51-b9eebdf4a59d>:5: FutureWarning: The default value of regex will change from True to False in a future version.\n",
            "  tweets['tweet'] = tweets['tweet'].str.replace(r'@\\w+', '@user')\n",
            "<ipython-input-51-b9eebdf4a59d>:8: FutureWarning: The default value of regex will change from True to False in a future version.\n",
            "  tweets['tweet'] = tweets['tweet'].str.replace(r'http\\S+', 'link')\n"
          ]
        }
      ]
    },
    {
      "cell_type": "code",
      "source": [
        "a = citizenlab_model(\"hola\")\n",
        "procesar_resultado(a)"
      ],
      "metadata": {
        "colab": {
          "base_uri": "https://localhost:8080/"
        },
        "id": "dZIAiq3ikFTs",
        "outputId": "2b0c0216-f6cd-404d-bf05-55f9f4e6e1d0"
      },
      "execution_count": 52,
      "outputs": [
        {
          "output_type": "execute_result",
          "data": {
            "text/plain": [
              "1"
            ]
          },
          "metadata": {},
          "execution_count": 52
        }
      ]
    },
    {
      "cell_type": "code",
      "source": [
        "#iteracion por df para obtener clasificaciones de ambos modelos\n",
        "tweets['sentic'] = tweets['tweet'].apply(lambda tw: sentic_model(tw))\n",
        "tweets['lxyuan'] = tweets['tweet'].apply(lambda tw: procesar_resultado_lxyuan(lxyuan_model(tw)))\n",
        "tweets['citizenlab'] = tweets['tweet'].apply(lambda tw: procesar_resultado_citizenlab(citizenlab_model(tw)))"
      ],
      "metadata": {
        "id": "O7Lv1TGdX1y_"
      },
      "execution_count": null,
      "outputs": []
    },
    {
      "cell_type": "code",
      "source": [
        "tweets"
      ],
      "metadata": {
        "colab": {
          "base_uri": "https://localhost:8080/",
          "height": 424
        },
        "id": "WcOTHoOCa0EW",
        "outputId": "19ec7926-3a40-495d-e3f1-5aa012a16910"
      },
      "execution_count": 54,
      "outputs": [
        {
          "output_type": "execute_result",
          "data": {
            "text/plain": [
              "     impacto                                              tweet  lxyuan  \\\n",
              "0       linf  el diputado local de sonora por el partido enc...       0   \n",
              "1       linf  video  yo estoy de acuerdo con la filosofia de...       1   \n",
              "2       linf  el gobiernojalisco ya esta listo para la react...       1   \n",
              "3       linf  tomando te de canela en la manana a mediodia y...       0   \n",
              "4       linf  envivo  tengo la certeza de que los militares ...       0   \n",
              "...      ...                                                ...     ...   \n",
              "4995    hinf  pues ya entre al compranet y efectivamente est...       0   \n",
              "4996    hinf  amigos moleculas  les dije desde temprano que ...       0   \n",
              "4997    hinf  la confirmacion que hace esta tarde the wall s...       0   \n",
              "4998    hinf  el dia de hoy done mi billete de la ln para la...       0   \n",
              "4999    hinf  agradezco al vocero de la presidencia jesusrcu...       0   \n",
              "\n",
              "      citizenlab  sentic  \n",
              "0              1       1  \n",
              "1              1       0  \n",
              "2              1       0  \n",
              "3              1       1  \n",
              "4              1       1  \n",
              "...          ...     ...  \n",
              "4995           0       0  \n",
              "4996           0       0  \n",
              "4997           0       0  \n",
              "4998           0       0  \n",
              "4999           0       0  \n",
              "\n",
              "[5000 rows x 5 columns]"
            ],
            "text/html": [
              "\n",
              "  <div id=\"df-36032d14-e92a-4f8f-990e-0fa6be506735\" class=\"colab-df-container\">\n",
              "    <div>\n",
              "<style scoped>\n",
              "    .dataframe tbody tr th:only-of-type {\n",
              "        vertical-align: middle;\n",
              "    }\n",
              "\n",
              "    .dataframe tbody tr th {\n",
              "        vertical-align: top;\n",
              "    }\n",
              "\n",
              "    .dataframe thead th {\n",
              "        text-align: right;\n",
              "    }\n",
              "</style>\n",
              "<table border=\"1\" class=\"dataframe\">\n",
              "  <thead>\n",
              "    <tr style=\"text-align: right;\">\n",
              "      <th></th>\n",
              "      <th>impacto</th>\n",
              "      <th>tweet</th>\n",
              "      <th>lxyuan</th>\n",
              "      <th>citizenlab</th>\n",
              "      <th>sentic</th>\n",
              "    </tr>\n",
              "  </thead>\n",
              "  <tbody>\n",
              "    <tr>\n",
              "      <th>0</th>\n",
              "      <td>linf</td>\n",
              "      <td>el diputado local de sonora por el partido enc...</td>\n",
              "      <td>0</td>\n",
              "      <td>1</td>\n",
              "      <td>1</td>\n",
              "    </tr>\n",
              "    <tr>\n",
              "      <th>1</th>\n",
              "      <td>linf</td>\n",
              "      <td>video  yo estoy de acuerdo con la filosofia de...</td>\n",
              "      <td>1</td>\n",
              "      <td>1</td>\n",
              "      <td>0</td>\n",
              "    </tr>\n",
              "    <tr>\n",
              "      <th>2</th>\n",
              "      <td>linf</td>\n",
              "      <td>el gobiernojalisco ya esta listo para la react...</td>\n",
              "      <td>1</td>\n",
              "      <td>1</td>\n",
              "      <td>0</td>\n",
              "    </tr>\n",
              "    <tr>\n",
              "      <th>3</th>\n",
              "      <td>linf</td>\n",
              "      <td>tomando te de canela en la manana a mediodia y...</td>\n",
              "      <td>0</td>\n",
              "      <td>1</td>\n",
              "      <td>1</td>\n",
              "    </tr>\n",
              "    <tr>\n",
              "      <th>4</th>\n",
              "      <td>linf</td>\n",
              "      <td>envivo  tengo la certeza de que los militares ...</td>\n",
              "      <td>0</td>\n",
              "      <td>1</td>\n",
              "      <td>1</td>\n",
              "    </tr>\n",
              "    <tr>\n",
              "      <th>...</th>\n",
              "      <td>...</td>\n",
              "      <td>...</td>\n",
              "      <td>...</td>\n",
              "      <td>...</td>\n",
              "      <td>...</td>\n",
              "    </tr>\n",
              "    <tr>\n",
              "      <th>4995</th>\n",
              "      <td>hinf</td>\n",
              "      <td>pues ya entre al compranet y efectivamente est...</td>\n",
              "      <td>0</td>\n",
              "      <td>0</td>\n",
              "      <td>0</td>\n",
              "    </tr>\n",
              "    <tr>\n",
              "      <th>4996</th>\n",
              "      <td>hinf</td>\n",
              "      <td>amigos moleculas  les dije desde temprano que ...</td>\n",
              "      <td>0</td>\n",
              "      <td>0</td>\n",
              "      <td>0</td>\n",
              "    </tr>\n",
              "    <tr>\n",
              "      <th>4997</th>\n",
              "      <td>hinf</td>\n",
              "      <td>la confirmacion que hace esta tarde the wall s...</td>\n",
              "      <td>0</td>\n",
              "      <td>0</td>\n",
              "      <td>0</td>\n",
              "    </tr>\n",
              "    <tr>\n",
              "      <th>4998</th>\n",
              "      <td>hinf</td>\n",
              "      <td>el dia de hoy done mi billete de la ln para la...</td>\n",
              "      <td>0</td>\n",
              "      <td>0</td>\n",
              "      <td>0</td>\n",
              "    </tr>\n",
              "    <tr>\n",
              "      <th>4999</th>\n",
              "      <td>hinf</td>\n",
              "      <td>agradezco al vocero de la presidencia jesusrcu...</td>\n",
              "      <td>0</td>\n",
              "      <td>0</td>\n",
              "      <td>0</td>\n",
              "    </tr>\n",
              "  </tbody>\n",
              "</table>\n",
              "<p>5000 rows × 5 columns</p>\n",
              "</div>\n",
              "    <div class=\"colab-df-buttons\">\n",
              "\n",
              "  <div class=\"colab-df-container\">\n",
              "    <button class=\"colab-df-convert\" onclick=\"convertToInteractive('df-36032d14-e92a-4f8f-990e-0fa6be506735')\"\n",
              "            title=\"Convert this dataframe to an interactive table.\"\n",
              "            style=\"display:none;\">\n",
              "\n",
              "  <svg xmlns=\"http://www.w3.org/2000/svg\" height=\"24px\" viewBox=\"0 -960 960 960\">\n",
              "    <path d=\"M120-120v-720h720v720H120Zm60-500h600v-160H180v160Zm220 220h160v-160H400v160Zm0 220h160v-160H400v160ZM180-400h160v-160H180v160Zm440 0h160v-160H620v160ZM180-180h160v-160H180v160Zm440 0h160v-160H620v160Z\"/>\n",
              "  </svg>\n",
              "    </button>\n",
              "\n",
              "  <style>\n",
              "    .colab-df-container {\n",
              "      display:flex;\n",
              "      gap: 12px;\n",
              "    }\n",
              "\n",
              "    .colab-df-convert {\n",
              "      background-color: #E8F0FE;\n",
              "      border: none;\n",
              "      border-radius: 50%;\n",
              "      cursor: pointer;\n",
              "      display: none;\n",
              "      fill: #1967D2;\n",
              "      height: 32px;\n",
              "      padding: 0 0 0 0;\n",
              "      width: 32px;\n",
              "    }\n",
              "\n",
              "    .colab-df-convert:hover {\n",
              "      background-color: #E2EBFA;\n",
              "      box-shadow: 0px 1px 2px rgba(60, 64, 67, 0.3), 0px 1px 3px 1px rgba(60, 64, 67, 0.15);\n",
              "      fill: #174EA6;\n",
              "    }\n",
              "\n",
              "    .colab-df-buttons div {\n",
              "      margin-bottom: 4px;\n",
              "    }\n",
              "\n",
              "    [theme=dark] .colab-df-convert {\n",
              "      background-color: #3B4455;\n",
              "      fill: #D2E3FC;\n",
              "    }\n",
              "\n",
              "    [theme=dark] .colab-df-convert:hover {\n",
              "      background-color: #434B5C;\n",
              "      box-shadow: 0px 1px 3px 1px rgba(0, 0, 0, 0.15);\n",
              "      filter: drop-shadow(0px 1px 2px rgba(0, 0, 0, 0.3));\n",
              "      fill: #FFFFFF;\n",
              "    }\n",
              "  </style>\n",
              "\n",
              "    <script>\n",
              "      const buttonEl =\n",
              "        document.querySelector('#df-36032d14-e92a-4f8f-990e-0fa6be506735 button.colab-df-convert');\n",
              "      buttonEl.style.display =\n",
              "        google.colab.kernel.accessAllowed ? 'block' : 'none';\n",
              "\n",
              "      async function convertToInteractive(key) {\n",
              "        const element = document.querySelector('#df-36032d14-e92a-4f8f-990e-0fa6be506735');\n",
              "        const dataTable =\n",
              "          await google.colab.kernel.invokeFunction('convertToInteractive',\n",
              "                                                    [key], {});\n",
              "        if (!dataTable) return;\n",
              "\n",
              "        const docLinkHtml = 'Like what you see? Visit the ' +\n",
              "          '<a target=\"_blank\" href=https://colab.research.google.com/notebooks/data_table.ipynb>data table notebook</a>'\n",
              "          + ' to learn more about interactive tables.';\n",
              "        element.innerHTML = '';\n",
              "        dataTable['output_type'] = 'display_data';\n",
              "        await google.colab.output.renderOutput(dataTable, element);\n",
              "        const docLink = document.createElement('div');\n",
              "        docLink.innerHTML = docLinkHtml;\n",
              "        element.appendChild(docLink);\n",
              "      }\n",
              "    </script>\n",
              "  </div>\n",
              "\n",
              "\n",
              "<div id=\"df-1c1c29ef-6fc6-430a-9c18-030f110fbdc8\">\n",
              "  <button class=\"colab-df-quickchart\" onclick=\"quickchart('df-1c1c29ef-6fc6-430a-9c18-030f110fbdc8')\"\n",
              "            title=\"Suggest charts.\"\n",
              "            style=\"display:none;\">\n",
              "\n",
              "<svg xmlns=\"http://www.w3.org/2000/svg\" height=\"24px\"viewBox=\"0 0 24 24\"\n",
              "     width=\"24px\">\n",
              "    <g>\n",
              "        <path d=\"M19 3H5c-1.1 0-2 .9-2 2v14c0 1.1.9 2 2 2h14c1.1 0 2-.9 2-2V5c0-1.1-.9-2-2-2zM9 17H7v-7h2v7zm4 0h-2V7h2v10zm4 0h-2v-4h2v4z\"/>\n",
              "    </g>\n",
              "</svg>\n",
              "  </button>\n",
              "\n",
              "<style>\n",
              "  .colab-df-quickchart {\n",
              "      --bg-color: #E8F0FE;\n",
              "      --fill-color: #1967D2;\n",
              "      --hover-bg-color: #E2EBFA;\n",
              "      --hover-fill-color: #174EA6;\n",
              "      --disabled-fill-color: #AAA;\n",
              "      --disabled-bg-color: #DDD;\n",
              "  }\n",
              "\n",
              "  [theme=dark] .colab-df-quickchart {\n",
              "      --bg-color: #3B4455;\n",
              "      --fill-color: #D2E3FC;\n",
              "      --hover-bg-color: #434B5C;\n",
              "      --hover-fill-color: #FFFFFF;\n",
              "      --disabled-bg-color: #3B4455;\n",
              "      --disabled-fill-color: #666;\n",
              "  }\n",
              "\n",
              "  .colab-df-quickchart {\n",
              "    background-color: var(--bg-color);\n",
              "    border: none;\n",
              "    border-radius: 50%;\n",
              "    cursor: pointer;\n",
              "    display: none;\n",
              "    fill: var(--fill-color);\n",
              "    height: 32px;\n",
              "    padding: 0;\n",
              "    width: 32px;\n",
              "  }\n",
              "\n",
              "  .colab-df-quickchart:hover {\n",
              "    background-color: var(--hover-bg-color);\n",
              "    box-shadow: 0 1px 2px rgba(60, 64, 67, 0.3), 0 1px 3px 1px rgba(60, 64, 67, 0.15);\n",
              "    fill: var(--button-hover-fill-color);\n",
              "  }\n",
              "\n",
              "  .colab-df-quickchart-complete:disabled,\n",
              "  .colab-df-quickchart-complete:disabled:hover {\n",
              "    background-color: var(--disabled-bg-color);\n",
              "    fill: var(--disabled-fill-color);\n",
              "    box-shadow: none;\n",
              "  }\n",
              "\n",
              "  .colab-df-spinner {\n",
              "    border: 2px solid var(--fill-color);\n",
              "    border-color: transparent;\n",
              "    border-bottom-color: var(--fill-color);\n",
              "    animation:\n",
              "      spin 1s steps(1) infinite;\n",
              "  }\n",
              "\n",
              "  @keyframes spin {\n",
              "    0% {\n",
              "      border-color: transparent;\n",
              "      border-bottom-color: var(--fill-color);\n",
              "      border-left-color: var(--fill-color);\n",
              "    }\n",
              "    20% {\n",
              "      border-color: transparent;\n",
              "      border-left-color: var(--fill-color);\n",
              "      border-top-color: var(--fill-color);\n",
              "    }\n",
              "    30% {\n",
              "      border-color: transparent;\n",
              "      border-left-color: var(--fill-color);\n",
              "      border-top-color: var(--fill-color);\n",
              "      border-right-color: var(--fill-color);\n",
              "    }\n",
              "    40% {\n",
              "      border-color: transparent;\n",
              "      border-right-color: var(--fill-color);\n",
              "      border-top-color: var(--fill-color);\n",
              "    }\n",
              "    60% {\n",
              "      border-color: transparent;\n",
              "      border-right-color: var(--fill-color);\n",
              "    }\n",
              "    80% {\n",
              "      border-color: transparent;\n",
              "      border-right-color: var(--fill-color);\n",
              "      border-bottom-color: var(--fill-color);\n",
              "    }\n",
              "    90% {\n",
              "      border-color: transparent;\n",
              "      border-bottom-color: var(--fill-color);\n",
              "    }\n",
              "  }\n",
              "</style>\n",
              "\n",
              "  <script>\n",
              "    async function quickchart(key) {\n",
              "      const quickchartButtonEl =\n",
              "        document.querySelector('#' + key + ' button');\n",
              "      quickchartButtonEl.disabled = true;  // To prevent multiple clicks.\n",
              "      quickchartButtonEl.classList.add('colab-df-spinner');\n",
              "      try {\n",
              "        const charts = await google.colab.kernel.invokeFunction(\n",
              "            'suggestCharts', [key], {});\n",
              "      } catch (error) {\n",
              "        console.error('Error during call to suggestCharts:', error);\n",
              "      }\n",
              "      quickchartButtonEl.classList.remove('colab-df-spinner');\n",
              "      quickchartButtonEl.classList.add('colab-df-quickchart-complete');\n",
              "    }\n",
              "    (() => {\n",
              "      let quickchartButtonEl =\n",
              "        document.querySelector('#df-1c1c29ef-6fc6-430a-9c18-030f110fbdc8 button');\n",
              "      quickchartButtonEl.style.display =\n",
              "        google.colab.kernel.accessAllowed ? 'block' : 'none';\n",
              "    })();\n",
              "  </script>\n",
              "</div>\n",
              "    </div>\n",
              "  </div>\n"
            ]
          },
          "metadata": {},
          "execution_count": 54
        }
      ]
    },
    {
      "cell_type": "code",
      "source": [
        "tweets.to_csv('tweets_clasificados.csv', index=False)"
      ],
      "metadata": {
        "id": "dNMxFbrQMqFj"
      },
      "execution_count": 12,
      "outputs": []
    }
  ]
}